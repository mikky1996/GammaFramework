{
 "cells": [
  {
   "cell_type": "code",
   "execution_count": 1,
   "metadata": {
    "collapsed": true
   },
   "outputs": [],
   "source": [
    "# Ignore the warnings\n",
    "import warnings\n",
    "warnings.filterwarnings('ignore')\n",
    "\n",
    "# Magic\n",
    "%matplotlib inline\n",
    "\n",
    "# Libraries in use\n",
    "import sys\n",
    "import math\n",
    "import alphalens\n",
    "import numpy as np\n",
    "import pandas as pd\n",
    "\n",
    "# My libraries\n",
    "sys.path.append('../../infra/')\n",
    "from FactorGenerator  import FactorGenerator\n",
    "from FactorEvaluation import FactorEvaluation\n",
    "from AssetsData import AssetsData"
   ]
  },
  {
   "cell_type": "code",
   "execution_count": 2,
   "metadata": {
    "collapsed": true
   },
   "outputs": [],
   "source": [
    "'''\n",
    "Factor function gets as argument asset specific windowed DF.\n",
    "DF consits of #window days with all the fields, \n",
    "where the last day is the target day, to which the calculated factor will be assigned.\n",
    "For days that are closer to the beginning of the dataset then #window days, input window DF is pruned.\n",
    "'''\n",
    "from sklearn import linear_model\n",
    "info = AssetsData()\n",
    "\n",
    "def lassolars(df):\n",
    "    days_num, _ = df.shape\n",
    "    # If we are closer to the beginning of the dataframe than 60 days, then let the factor value be NaN \n",
    "    if (days_num < 10):\n",
    "        return np.nan\n",
    "    # Otherwise return the difference between returns of the first day of the window DF and the last but one\n",
    "    x, y = info.get_x_y(df.iloc[0:-2])\n",
    "    reg = linear_model.LassoLars(alpha=1e-10)\n",
    "    reg.fit(x,y)\n",
    "    factors = [x for x in list(df.iloc[-1].keys()) if x != 'y']\n",
    "    x_ = [np.array(df.iloc[-1][factors])]\n",
    "    return reg.predict(x_)[0]"
   ]
  },
  {
   "cell_type": "code",
   "execution_count": null,
   "metadata": {},
   "outputs": [],
   "source": [
    "df = pd.read_csv(\"../../data/processed_init_data/processed_rolling_data.csv\").set_index(['TIMESTAMP', 'ID'])\n",
    "del df['Unnamed: 0']"
   ]
  },
  {
   "cell_type": "code",
   "execution_count": null,
   "metadata": {},
   "outputs": [],
   "source": [
    "gen = FactorGenerator()\n",
    "lasso_predictions  = gen.create_factor(df, lassolars, 'lassolars', window = 60, save = False)"
   ]
  },
  {
   "cell_type": "code",
   "execution_count": null,
   "metadata": {
    "collapsed": true
   },
   "outputs": [],
   "source": []
  }
 ],
 "metadata": {
  "kernelspec": {
   "display_name": "Python 3",
   "language": "python",
   "name": "python3"
  },
  "language_info": {
   "codemirror_mode": {
    "name": "ipython",
    "version": 3
   },
   "file_extension": ".py",
   "mimetype": "text/x-python",
   "name": "python",
   "nbconvert_exporter": "python",
   "pygments_lexer": "ipython3",
   "version": "3.6.1"
  }
 },
 "nbformat": 4,
 "nbformat_minor": 2
}
