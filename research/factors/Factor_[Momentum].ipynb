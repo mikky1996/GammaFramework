{
 "cells": [
  {
   "cell_type": "code",
   "execution_count": 1,
   "metadata": {},
   "outputs": [],
   "source": [
    "# Ignore the warnings\n",
    "import warnings\n",
    "warnings.filterwarnings('ignore')\n",
    "\n",
    "# Magic\n",
    "%matplotlib inline\n",
    "\n",
    "# Libraries in use\n",
    "import sys\n",
    "import math\n",
    "import alphalens\n",
    "import numpy as np\n",
    "import pandas as pd\n",
    "\n",
    "# My libraries\n",
    "sys.path.append('../../infra/')\n",
    "from FactorGenerator  import FactorGenerator\n",
    "from FactorEvaluation import FactorEvaluation"
   ]
  },
  {
   "cell_type": "code",
   "execution_count": 2,
   "metadata": {
    "collapsed": true
   },
   "outputs": [],
   "source": [
    "'''\n",
    "Factor function gets as argument asset specific windowed DF.\n",
    "DF consits of #window days with all the fields, \n",
    "where the last day is the target day, to which the calculated factor will be assigned.\n",
    "For days that are closer to the beginning of the dataset then #window days, input window DF is pruned.\n",
    "'''\n",
    "def momentum(df):\n",
    "    days_num, _ = df.shape\n",
    "    # If we are closer to the beginning of the dataframe than 3 days, then let the factor value be NaN \n",
    "    if (days_num < 3):\n",
    "        return np.nan\n",
    "    # Otherwise return the difference between returns of the first day of the window DF and the last but one\n",
    "    return df.iloc[0]['y'] - df.iloc[-2]['y']"
   ]
  },
  {
   "cell_type": "code",
   "execution_count": 3,
   "metadata": {},
   "outputs": [],
   "source": [
    "df = pd.read_csv(\"../../data/processed_init_data/processed_rolling_data.csv\").set_index(['TIMESTAMP', 'ID'])"
   ]
  },
  {
   "cell_type": "code",
   "execution_count": 4,
   "metadata": {},
   "outputs": [
    {
     "data": {
      "text/plain": [
       "\"\\n# Calculation time ~ 50 min\\ngen = FactorGenerator()\\nf  = gen.create_factor(df, momentum, 'momentum_3_days', window = 4, save = True)\\nf1 = gen.create_factor(df, momentum, 'momentum_5_days', window = 6, save = True)\\n\\n# Add the factor to the main df\\ndf['Momentum3'] = f\\ndf['Momentum5'] = f1\\n\""
      ]
     },
     "execution_count": 4,
     "metadata": {},
     "output_type": "execute_result"
    }
   ],
   "source": [
    "'''\n",
    "# Calculate momentum factors\n",
    "# Calculation time ~ 50 min\n",
    "gen = FactorGenerator()\n",
    "M3  = gen.create_factor(df, momentum, 'momentum_3_days', window = 4, save = True)\n",
    "M5  = gen.create_factor(df, momentum, 'momentum_5_days', window = 6, save = True)\n",
    "'''"
   ]
  },
  {
   "cell_type": "code",
   "execution_count": 15,
   "metadata": {},
   "outputs": [],
   "source": [
    "# Since that I have already calculated those factors\n",
    "M3 = pd.read_csv('../../data/computed_factors/momentum_3_days.csv').set_index(['TIMESTAMP', 'ID'])\n",
    "M5 = pd.read_csv('../../data/computed_factors/momentum_5_days.csv').set_index(['TIMESTAMP', 'ID'])\n",
    "df['M3'] = M3\n",
    "df['M5'] = M5"
   ]
  },
  {
   "cell_type": "code",
   "execution_count": 16,
   "metadata": {},
   "outputs": [],
   "source": [
    "evaluation = FactorEvaluation()\n",
    "factor, pricing = evaluation.alphalens_data(df)"
   ]
  },
  {
   "cell_type": "code",
   "execution_count": null,
   "metadata": {
    "collapsed": true
   },
   "outputs": [],
   "source": []
  }
 ],
 "metadata": {
  "kernelspec": {
   "display_name": "Python 3",
   "language": "python",
   "name": "python3"
  },
  "language_info": {
   "codemirror_mode": {
    "name": "ipython",
    "version": 3
   },
   "file_extension": ".py",
   "mimetype": "text/x-python",
   "name": "python",
   "nbconvert_exporter": "python",
   "pygments_lexer": "ipython3",
   "version": "3.6.1"
  }
 },
 "nbformat": 4,
 "nbformat_minor": 2
}
