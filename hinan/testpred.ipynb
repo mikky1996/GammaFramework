{
 "cells": [
  {
   "cell_type": "code",
   "execution_count": 1,
   "metadata": {
    "collapsed": true
   },
   "outputs": [],
   "source": [
    "# Magic\n",
    "%matplotlib inline\n",
    "\n",
    "# Libraries in use\n",
    "import os\n",
    "import sys\n",
    "import math\n",
    "import pylab as pl\n",
    "import numpy as np\n",
    "import pandas as pd\n",
    "import scipy\n",
    "import matplotlib.pyplot as plt\n",
    "from sklearn import linear_model, neural_network, metrics\n",
    "from matplotlib import collections  as mc\n",
    "import string\n",
    "\n",
    "from myutil import *\n",
    "import pickle"
   ]
  },
  {
   "cell_type": "code",
   "execution_count": 2,
   "metadata": {
    "collapsed": true
   },
   "outputs": [],
   "source": [
    "with open('assetslist_lasso_trim_10_300.pckl') as f:\n",
    "    assetslist = pickle.load(f)"
   ]
  },
  {
   "cell_type": "code",
   "execution_count": 3,
   "metadata": {},
   "outputs": [],
   "source": [
    "# Read the data\n",
    "df = pd.read_csv(\"../../data/test.csv.gz\")"
   ]
  },
  {
   "cell_type": "code",
   "execution_count": 4,
   "metadata": {},
   "outputs": [
    {
     "data": {
      "text/plain": [
       "'Number of securities in use is 1136'"
      ]
     },
     "execution_count": 4,
     "metadata": {},
     "output_type": "execute_result"
    }
   ],
   "source": [
    "\"Number of securities in use is {}\".format(len(set(df['ID'])))"
   ]
  },
  {
   "cell_type": "code",
   "execution_count": 5,
   "metadata": {},
   "outputs": [
    {
     "data": {
      "text/plain": [
       "'Number of days in train dataset 458'"
      ]
     },
     "execution_count": 5,
     "metadata": {},
     "output_type": "execute_result"
    }
   ],
   "source": [
    "\"Number of days in train dataset {}\".format(len(set(df['TIMESTAMP']))) "
   ]
  },
  {
   "cell_type": "code",
   "execution_count": 6,
   "metadata": {
    "collapsed": true
   },
   "outputs": [],
   "source": [
    "timestamps = sorted(list(set(df['TIMESTAMP'])))"
   ]
  },
  {
   "cell_type": "code",
   "execution_count": 7,
   "metadata": {
    "collapsed": true
   },
   "outputs": [],
   "source": [
    "df_result = df.loc[:, ['TIMESTAMP', 'ID']].copy(deep=True)"
   ]
  },
  {
   "cell_type": "code",
   "execution_count": 8,
   "metadata": {},
   "outputs": [
    {
     "name": "stdout",
     "output_type": "stream",
     "text": [
      "[]\n"
     ]
    }
   ],
   "source": [
    "y_pred = []\n",
    "data = AssetsData()\n",
    "print y_pred"
   ]
  },
  {
   "cell_type": "code",
   "execution_count": 9,
   "metadata": {
    "collapsed": true
   },
   "outputs": [],
   "source": [
    "for time in timestamps:\n",
    "    df_current = df[(df['TIMESTAMP'] == time)]\n",
    "    ids = list(df_current['ID'])\n",
    "    for id_current in ids:\n",
    "        df_current_id =  df_current[(df_current['ID'] == id_current)]\n",
    "        col = data.get_factor_names(df)\n",
    "        current_id_factors = df_current_id[col]\n",
    "        if id_current not in assetslist:\n",
    "            y_pred.append(0)\n",
    "            #print 'Not found'\n",
    "            continue\n",
    "        else:    \n",
    "            asset = assetslist[id_current]\n",
    "        if type(asset.factors) != pd.core.indexes.base.Index:\n",
    "            y_pred.append(0)\n",
    "            #print 'Not found factors'\n",
    "            continue\n",
    "            \n",
    "        if asset.score < 0.03:\n",
    "            y_pred.append(0)\n",
    "            continue\n",
    "        #print current_id_factors[asset.factors]\n",
    "        current_id_factors_wout_nan = current_id_factors[asset.factors].fillna(0)\n",
    "        x = np.array(current_id_factors_wout_nan)\n",
    "        X = (x - asset.mean)/asset.var\n",
    "        \n",
    "        next_pred = asset.model.predict(X)\n",
    "        #if next_pred > 1e+2 or next_pred < -1e+2:\n",
    "            #y_pred.append(0)\n",
    "            #continue\n",
    "        \n",
    "        #asset.mean = (asset.mean * asset.day_count + x)/(asset.day_count + 1)\n",
    "        #asset.day_count += 1\n",
    "        \n",
    "        y_pred.append(next_pred)\n",
    "        #print np.array(current_id_factors[asset.factors])\n",
    "        #print asset.mean\n",
    "        #print (x - asset.mean)/asset.var\n",
    "        #print asset.model.predict(x)\n",
    "        #print current_id_factors\n",
    "        #print time, id_current\n",
    "        "
   ]
  },
  {
   "cell_type": "code",
   "execution_count": 10,
   "metadata": {},
   "outputs": [
    {
     "name": "stdout",
     "output_type": "stream",
     "text": [
      "[ 77405.54852119]\n",
      "[-8765.82456505]\n"
     ]
    },
    {
     "data": {
      "text/plain": [
       "463691"
      ]
     },
     "execution_count": 10,
     "metadata": {},
     "output_type": "execute_result"
    }
   ],
   "source": [
    "print max(y_pred)\n",
    "print min(y_pred)\n",
    "y_pred_hat = [float(i) for i in y_pred]\n",
    "len(y_pred_hat)"
   ]
  },
  {
   "cell_type": "code",
   "execution_count": 31,
   "metadata": {
    "collapsed": true
   },
   "outputs": [],
   "source": [
    "import copy\n",
    "y_pred_hat_trim = copy.deepcopy(y_pred_hat)\n",
    "for ind, j in  enumerate(y_pred_hat_trim):\n",
    "    if j > 1.5 or j < -1.5:\n",
    "        y_pred_hat_trim[ind] = 0"
   ]
  },
  {
   "cell_type": "code",
   "execution_count": null,
   "metadata": {
    "collapsed": true
   },
   "outputs": [],
   "source": [
    "import copy\n",
    "y_pred_hat_trim = copy.deepcopy(y_pred_hat)\n",
    "for ind, j in  enumerate(y_pred_hat_trim):\n",
    "    if j > 1:\n",
    "        y_pred_hat_trim[ind] = 1\n",
    "    if j < -1:\n",
    "        y_pred_hat_trim[ind] = -1"
   ]
  },
  {
   "cell_type": "code",
   "execution_count": 23,
   "metadata": {},
   "outputs": [
    {
     "name": "stdout",
     "output_type": "stream",
     "text": [
      "[ 77405.54852119]\n",
      "[-8765.82456505]\n",
      "77405.5485212\n",
      "-8765.82456505\n",
      "2.97001490997\n",
      "-2.99972340223\n"
     ]
    }
   ],
   "source": [
    "print max(y_pred)\n",
    "print min(y_pred)\n",
    "print max(y_pred_hat)\n",
    "print min(y_pred_hat)\n",
    "print max(y_pred_hat_trim)\n",
    "print min(y_pred_hat_trim)"
   ]
  },
  {
   "cell_type": "code",
   "execution_count": 32,
   "metadata": {
    "collapsed": true
   },
   "outputs": [],
   "source": [
    "df_result.loc[:, 'y_pred'] = y_pred_hat_trim"
   ]
  },
  {
   "cell_type": "code",
   "execution_count": 33,
   "metadata": {},
   "outputs": [
    {
     "data": {
      "text/html": [
       "<div>\n",
       "<style>\n",
       "    .dataframe thead tr:only-child th {\n",
       "        text-align: right;\n",
       "    }\n",
       "\n",
       "    .dataframe thead th {\n",
       "        text-align: left;\n",
       "    }\n",
       "\n",
       "    .dataframe tbody tr th {\n",
       "        vertical-align: top;\n",
       "    }\n",
       "</style>\n",
       "<table border=\"1\" class=\"dataframe\">\n",
       "  <thead>\n",
       "    <tr style=\"text-align: right;\">\n",
       "      <th></th>\n",
       "      <th>TIMESTAMP</th>\n",
       "      <th>ID</th>\n",
       "      <th>y_pred</th>\n",
       "    </tr>\n",
       "  </thead>\n",
       "  <tbody>\n",
       "    <tr>\n",
       "      <th>0</th>\n",
       "      <td>T1122</td>\n",
       "      <td>S0001</td>\n",
       "      <td>0.000000</td>\n",
       "    </tr>\n",
       "    <tr>\n",
       "      <th>1</th>\n",
       "      <td>T1122</td>\n",
       "      <td>S0002</td>\n",
       "      <td>0.000000</td>\n",
       "    </tr>\n",
       "    <tr>\n",
       "      <th>2</th>\n",
       "      <td>T1122</td>\n",
       "      <td>S0003</td>\n",
       "      <td>0.000586</td>\n",
       "    </tr>\n",
       "    <tr>\n",
       "      <th>3</th>\n",
       "      <td>T1122</td>\n",
       "      <td>S0004</td>\n",
       "      <td>0.000000</td>\n",
       "    </tr>\n",
       "    <tr>\n",
       "      <th>4</th>\n",
       "      <td>T1122</td>\n",
       "      <td>S0005</td>\n",
       "      <td>0.001723</td>\n",
       "    </tr>\n",
       "  </tbody>\n",
       "</table>\n",
       "</div>"
      ],
      "text/plain": [
       "  TIMESTAMP     ID    y_pred\n",
       "0     T1122  S0001  0.000000\n",
       "1     T1122  S0002  0.000000\n",
       "2     T1122  S0003  0.000586\n",
       "3     T1122  S0004  0.000000\n",
       "4     T1122  S0005  0.001723"
      ]
     },
     "execution_count": 33,
     "metadata": {},
     "output_type": "execute_result"
    }
   ],
   "source": [
    "df_result.head()"
   ]
  },
  {
   "cell_type": "code",
   "execution_count": 34,
   "metadata": {},
   "outputs": [
    {
     "data": {
      "text/plain": [
       "True"
      ]
     },
     "execution_count": 34,
     "metadata": {},
     "output_type": "execute_result"
    }
   ],
   "source": [
    "df_result.shape == (463691, 3)"
   ]
  },
  {
   "cell_type": "code",
   "execution_count": 35,
   "metadata": {},
   "outputs": [
    {
     "data": {
      "text/plain": [
       "TIMESTAMP    True\n",
       "ID           True\n",
       "dtype: bool"
      ]
     },
     "execution_count": 35,
     "metadata": {},
     "output_type": "execute_result"
    }
   ],
   "source": [
    "(df_result[['TIMESTAMP','ID']] == df[['TIMESTAMP','ID']]).all()"
   ]
  },
  {
   "cell_type": "code",
   "execution_count": 36,
   "metadata": {
    "collapsed": true
   },
   "outputs": [],
   "source": [
    "df_result.to_csv('out1.csv', index=False)"
   ]
  },
  {
   "cell_type": "code",
   "execution_count": null,
   "metadata": {
    "collapsed": true
   },
   "outputs": [],
   "source": [
    "nmgbhjgfghf"
   ]
  },
  {
   "cell_type": "code",
   "execution_count": null,
   "metadata": {
    "collapsed": true
   },
   "outputs": [],
   "source": [
    "wgtcol='y_pred'\n",
    "dlywgts = df_result.groupby('TIMESTAMP')[wgtcol].apply(\n",
    "                lambda x: x.abs().sum()).reset_index().rename(columns={wgtcol:'dailywgt'})"
   ]
  },
  {
   "cell_type": "code",
   "execution_count": null,
   "metadata": {
    "collapsed": true
   },
   "outputs": [],
   "source": [
    "df_result = df_result.merge(dlywgts)\n",
    "df_result['wgt'] = df_result[wgtcol] / df_result['dailywgt']\n",
    "pt = df_result.pivot_table('wgt',index='TIMESTAMP',columns='ID')\n",
    "turnover = (pt - pt.shift(1)).abs().sum(axis=1).mean()\n",
    "print turnover"
   ]
  },
  {
   "cell_type": "code",
   "execution_count": null,
   "metadata": {
    "collapsed": true
   },
   "outputs": [],
   "source": [
    "for i in timestamps:\n",
    "    if sum(abs(df_result[(df_result['TIMESTAMP'] == i)].loc[:, 'wgt']) < 1e-5) > len(df_result[(df_result['TIMESTAMP'] == i)].loc[:, 'wgt'])/2:\n",
    "        print 'fail'\n"
   ]
  },
  {
   "cell_type": "code",
   "execution_count": null,
   "metadata": {},
   "outputs": [],
   "source": [
    "for i, j in enumerate(y_pred_hat):\n",
    "    if j > 100:\n",
    "        print i"
   ]
  },
  {
   "cell_type": "code",
   "execution_count": 29,
   "metadata": {
    "collapsed": true
   },
   "outputs": [],
   "source": [
    "df_result.loc[:, 'y_pred'] = y_pred_hat"
   ]
  },
  {
   "cell_type": "code",
   "execution_count": 30,
   "metadata": {
    "collapsed": true
   },
   "outputs": [],
   "source": [
    "df_result.to_csv('out1.csv', index=False)"
   ]
  },
  {
   "cell_type": "code",
   "execution_count": null,
   "metadata": {
    "collapsed": true
   },
   "outputs": [],
   "source": []
  }
 ],
 "metadata": {
  "kernelspec": {
   "display_name": "Python 2",
   "language": "python",
   "name": "python2"
  },
  "language_info": {
   "codemirror_mode": {
    "name": "ipython",
    "version": 2
   },
   "file_extension": ".py",
   "mimetype": "text/x-python",
   "name": "python",
   "nbconvert_exporter": "python",
   "pygments_lexer": "ipython2",
   "version": "2.7.13"
  }
 },
 "nbformat": 4,
 "nbformat_minor": 2
}
