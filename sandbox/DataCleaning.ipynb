{
 "cells": [
  {
   "cell_type": "markdown",
   "metadata": {},
   "source": [
    "# Data preprocessing"
   ]
  },
  {
   "cell_type": "code",
   "execution_count": 1,
   "metadata": {},
   "outputs": [],
   "source": [
    "# Ignore the goddamn warnings\n",
    "import warnings\n",
    "warnings.filterwarnings('ignore')\n",
    "\n",
    "# Libraries in use\n",
    "import sys\n",
    "import numpy as np\n",
    "import pandas as pd\n",
    "\n",
    "# My libraries\n",
    "sys.path.append('../infra/')\n",
    "from PrepareDf import PrepareDf\n",
    "from AssetsData import AssetsData\n",
    "from scipy.stats.mstats import winsorize"
   ]
  },
  {
   "cell_type": "markdown",
   "metadata": {},
   "source": [
    "## Main problems to be solved:\n",
    "\n",
    "---------------------------\n",
    "* Deal with NaN values\n",
    "* Remove outliers\n",
    "* Normalize factors\n",
    "* **What to do with securities during trading, with no information during some days [Totally exclude?, Close positions when no information?]**\n",
    "----"
   ]
  },
  {
   "cell_type": "code",
   "execution_count": 2,
   "metadata": {
    "collapsed": true
   },
   "outputs": [],
   "source": [
    "transform = PrepareDf()"
   ]
  },
  {
   "cell_type": "code",
   "execution_count": 3,
   "metadata": {},
   "outputs": [
    {
     "data": {
      "text/plain": [
       "'\\n# Rolling asset specific winsorizing and normalization [takes around 7 hours]\\ndf = pd.read_csv(\"../data/train.csv\")\\ndf = transform.rolling_prepare(df)\\ndf.to_csv(\\'../data/processed_rolling_data.csv\\')\\n'"
      ]
     },
     "execution_count": 3,
     "metadata": {},
     "output_type": "execute_result"
    }
   ],
   "source": [
    "# Rolling asset specific winsorizing and normalization [takes around 7 hours]\n",
    "df = pd.read_csv(\"../data/train.csv\")\n",
    "df = transform.rolling_prepare(df)\n",
    "df.to_csv('../data/processed_rolling_data.csv')"
   ]
  },
  {
   "cell_type": "code",
   "execution_count": 4,
   "metadata": {
    "collapsed": true
   },
   "outputs": [],
   "source": [
    "# Standart winsorizing and normalization [takes around 5-6 min]\n",
    "df = pd.read_csv(\"../data/train.csv\")\n",
    "df = transform.standart_prepare(df)\n",
    "df.to_csv('../data/processed_std_data.csv')"
   ]
  }
 ],
 "metadata": {
  "kernelspec": {
   "display_name": "Python 3",
   "language": "python",
   "name": "python3"
  },
  "language_info": {
   "codemirror_mode": {
    "name": "ipython",
    "version": 3
   },
   "file_extension": ".py",
   "mimetype": "text/x-python",
   "name": "python",
   "nbconvert_exporter": "python",
   "pygments_lexer": "ipython3",
   "version": "3.6.1"
  }
 },
 "nbformat": 4,
 "nbformat_minor": 2
}
