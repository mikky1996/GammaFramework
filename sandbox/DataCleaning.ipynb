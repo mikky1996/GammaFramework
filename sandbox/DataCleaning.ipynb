{
 "cells": [
  {
   "cell_type": "markdown",
   "metadata": {},
   "source": [
    "# Data preprocessing"
   ]
  },
  {
   "cell_type": "code",
   "execution_count": 1,
   "metadata": {},
   "outputs": [],
   "source": [
    "# Ignore the goddamn warnings\n",
    "import warnings\n",
    "warnings.filterwarnings('ignore')\n",
    "\n",
    "# Libraries in use\n",
    "import sys\n",
    "import numpy as np\n",
    "import pandas as pd\n",
    "\n",
    "# My libraries\n",
    "sys.path.append('../infra/')\n",
    "from CleanData import CleanData\n",
    "from AssetsData import AssetsData"
   ]
  },
  {
   "cell_type": "code",
   "execution_count": 2,
   "metadata": {
    "collapsed": true
   },
   "outputs": [],
   "source": [
    "# Read the data\n",
    "df = pd.read_csv(\"../data/train.csv\")"
   ]
  },
  {
   "cell_type": "code",
   "execution_count": 3,
   "metadata": {
    "collapsed": true
   },
   "outputs": [],
   "source": [
    "# Example DataFrame\n",
    "d = pd.DataFrame({'F00': [1,np.nan,3,np.nan,5,6],\n",
    "                  'F01': [np.nan, 1, np.nan, 4, np.nan, 7],\n",
    "                  'ID' : ['S0000', 'S0000', 'S0000', 'S0001', 'S0001', 'S0001']})"
   ]
  },
  {
   "cell_type": "markdown",
   "metadata": {},
   "source": [
    "## Main problems to be solved:\n",
    "\n",
    "---------------------------\n",
    "* Deal with NaN values\n",
    "* Remove outliers\n",
    "* Normalize factors\n",
    "* **What to do with securities during trading, with no information during some days [Totally exclude?, Close positions when no information?]**\n",
    "----"
   ]
  },
  {
   "cell_type": "markdown",
   "metadata": {},
   "source": [
    "### Remove NaN\n",
    "-------"
   ]
  },
  {
   "cell_type": "code",
   "execution_count": 4,
   "metadata": {},
   "outputs": [
    {
     "name": "stdout",
     "output_type": "stream",
     "text": [
      "Before the NaN remove: rows 713122\n"
     ]
    }
   ],
   "source": [
    "print(\"Before the NaN remove: rows {}\".format(df.dropna().shape[0]))"
   ]
  },
  {
   "cell_type": "code",
   "execution_count": 5,
   "metadata": {},
   "outputs": [],
   "source": [
    "# Replace the NaN with the previous valid observation for specific asset and replace the NaN by it\n",
    "df = CleanData.fill_by_last_valid_observ_for_each_asset(df)"
   ]
  },
  {
   "cell_type": "code",
   "execution_count": null,
   "metadata": {},
   "outputs": [
    {
     "name": "stdout",
     "output_type": "stream",
     "text": [
      "After the NaN remove: rows 713122\n"
     ]
    }
   ],
   "source": [
    "print(\"After the NaN remove: rows {}\".format(df.dropna().shape[0]))"
   ]
  },
  {
   "cell_type": "markdown",
   "metadata": {},
   "source": [
    "### Remove outliers\n",
    "-------"
   ]
  },
  {
   "cell_type": "code",
   "execution_count": null,
   "metadata": {},
   "outputs": [],
   "source": [
    "# Check out the function for apply_for_each_asset_class_frame_window this one is better, than the one below\n",
    "# This function !!! WORKS REALLY LONG !!!\n",
    "info = AssetsData()\n",
    "for factor in info.get_factor_names(df):\n",
    "    df = CleanData.apply_for_all_asset_class_frame_window(df,\n",
    "                                                          factor, \n",
    "                                                          CleanData.window_winsorize,\n",
    "                                                          window = 30, \n",
    "                                                          min_periods = 1)"
   ]
  },
  {
   "cell_type": "code",
   "execution_count": null,
   "metadata": {
    "collapsed": true
   },
   "outputs": [],
   "source": [
    "df.to_csv('../data/preprocessed_data.csv', encoding='utf-8')"
   ]
  }
 ],
 "metadata": {
  "kernelspec": {
   "display_name": "Python 3",
   "language": "python",
   "name": "python3"
  },
  "language_info": {
   "codemirror_mode": {
    "name": "ipython",
    "version": 3
   },
   "file_extension": ".py",
   "mimetype": "text/x-python",
   "name": "python",
   "nbconvert_exporter": "python",
   "pygments_lexer": "ipython3",
   "version": "3.6.1"
  }
 },
 "nbformat": 4,
 "nbformat_minor": 2
}
