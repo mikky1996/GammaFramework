{
 "cells": [
  {
   "cell_type": "code",
   "execution_count": 1,
   "metadata": {},
   "outputs": [],
   "source": [
    "# Magic\n",
    "%matplotlib inline\n",
    "\n",
    "# Libraries in use\n",
    "import sys\n",
    "\n",
    "# My libraries\n",
    "sys.path.append('../infra/')\n",
    "import numpy as np\n",
    "import pandas as pd\n",
    "from sklearn import linear_model\n",
    "from Evaluation import Evaluation\n",
    "from AssetsData import AssetsData\n",
    "from sklearn.model_selection import GridSearchCV"
   ]
  },
  {
   "cell_type": "code",
   "execution_count": 2,
   "metadata": {},
   "outputs": [],
   "source": [
    "# Read the data\n",
    "df = pd.read_csv(\"../data/processed_init_data/processed_rolling_data.csv\").set_index(['TIMESTAMP', 'ID'])\n",
    "del df['Unnamed: 0']"
   ]
  },
  {
   "cell_type": "code",
   "execution_count": 3,
   "metadata": {},
   "outputs": [
    {
     "data": {
      "text/plain": [
       "{'alpha': 0.00010099000000000001}"
      ]
     },
     "execution_count": 3,
     "metadata": {},
     "output_type": "execute_result"
    }
   ],
   "source": [
    "# Find the best parameters for 'S0000' with 5 fold cross-validation\n",
    "obj = Evaluation()\n",
    "obj.parameter_estimation(df=df,\n",
    "                         model=linear_model.Lasso(),\n",
    "                         min_val=1e-6,\n",
    "                         max_val=1e-2,\n",
    "                         param_partitions=100,\n",
    "                         param_name='alpha',\n",
    "                         asset_name='S0000',\n",
    "                         folds = 5)"
   ]
  }
 ],
 "metadata": {
  "kernelspec": {
   "display_name": "Python 3",
   "language": "python",
   "name": "python3"
  },
  "language_info": {
   "codemirror_mode": {
    "name": "ipython",
    "version": 3
   },
   "file_extension": ".py",
   "mimetype": "text/x-python",
   "name": "python",
   "nbconvert_exporter": "python",
   "pygments_lexer": "ipython3",
   "version": "3.6.1"
  }
 },
 "nbformat": 4,
 "nbformat_minor": 2
}
