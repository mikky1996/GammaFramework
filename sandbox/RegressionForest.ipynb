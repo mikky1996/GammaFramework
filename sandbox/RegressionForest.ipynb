{
 "cells": [
  {
   "cell_type": "code",
   "execution_count": 1,
   "metadata": {},
   "outputs": [],
   "source": [
    "%matplotlib inline\n",
    "import sys\n",
    "import numpy as np\n",
    "import pandas as pd\n",
    "from sklearn.tree import DecisionTreeRegressor\n",
    "from sklearn.ensemble import AdaBoostRegressor\n",
    "\n",
    "sys.path.append('../infra/')\n",
    "import AssetsData\n",
    "from Evaluation import Evaluation"
   ]
  },
  {
   "cell_type": "code",
   "execution_count": 2,
   "metadata": {},
   "outputs": [],
   "source": [
    "df = pd.read_csv(\"../data/init_data/train.csv\").set_index(['TIMESTAMP', 'ID']).sort_index(0)"
   ]
  },
  {
   "cell_type": "code",
   "execution_count": 3,
   "metadata": {
    "collapsed": true
   },
   "outputs": [],
   "source": [
    "get = AssetsData.GetData()"
   ]
  },
  {
   "cell_type": "code",
   "execution_count": null,
   "metadata": {},
   "outputs": [],
   "source": [
    "# Get train and test df\n",
    "train, test = get.get_80_20(df)\n",
    "train = train.fillna(0)\n",
    "test  = test.fillna(0)"
   ]
  },
  {
   "cell_type": "code",
   "execution_count": null,
   "metadata": {},
   "outputs": [
    {
     "name": "stdout",
     "output_type": "stream",
     "text": [
      "Current working with S0000\n",
      "Current working with S0001\n",
      "Current working with S0002\n",
      "Current working with S0003\n",
      "Current working with S0004\n",
      "Current working with S0005\n",
      "Current working with S0006\n",
      "Current working with S0007\n",
      "Current working with S0008\n",
      "Current working with S0009\n",
      "Current working with S0010\n",
      "Current working with S0011\n",
      "Current working with S0012\n",
      "Current working with S0013\n",
      "Current working with S0014\n"
     ]
    }
   ],
   "source": [
    "def amount_of_days_with_asset(asset_obj, df):\n",
    "    # Asset is filtered if this thing returns True\n",
    "    return (df[df.index.get_level_values(1) == asset_obj.name].shape[0] < 300)\n",
    "\n",
    "def classic_pred_filter(asset_obj, yi_pred):\n",
    "    return ((yi_pred < asset_obj.factor_stat['y']['mean'] - 5*asset_obj.factor_stat['y']['std']) or\n",
    "            (yi_pred > asset_obj.factor_stat['y']['mean'] + 5*asset_obj.factor_stat['y']['std']))\n",
    "\n",
    "asset_pred_df = []\n",
    "\n",
    "for asset in get.get_assets_names(df):\n",
    "    print(\"Current working with {}\".format(asset))\n",
    "    # Regressor to test\n",
    "    rng = np.random.RandomState(1)\n",
    "    regr = AdaBoostRegressor(DecisionTreeRegressor(max_depth=4), n_estimators=301, random_state=rng)\n",
    "    # Asset data\n",
    "    obj = AssetsData.Asset(asset)\n",
    "    obj.select_factors(train)\n",
    "    obj.config_factor_stat(train)\n",
    "    obj.filter_asset(amount_of_days_with_asset, df)\n",
    "    obj.train(train, regr, 'AdaboostTreeReg')\n",
    "    asset_pred_df.append(obj.predict(test, 'AdaboostTreeReg', filter_pred = classic_pred_filter))"
   ]
  },
  {
   "cell_type": "code",
   "execution_count": null,
   "metadata": {},
   "outputs": [],
   "source": [
    "# Concatenate dataframes\n",
    "ans = pd.concat(asset_pred_df)"
   ]
  },
  {
   "cell_type": "code",
   "execution_count": null,
   "metadata": {},
   "outputs": [],
   "source": [
    "ev = Evaluation()\n",
    "ev.evaluate(ans)"
   ]
  },
  {
   "cell_type": "code",
   "execution_count": null,
   "metadata": {
    "collapsed": true
   },
   "outputs": [],
   "source": []
  }
 ],
 "metadata": {
  "kernelspec": {
   "display_name": "Python 3",
   "language": "python",
   "name": "python3"
  },
  "language_info": {
   "codemirror_mode": {
    "name": "ipython",
    "version": 3
   },
   "file_extension": ".py",
   "mimetype": "text/x-python",
   "name": "python",
   "nbconvert_exporter": "python",
   "pygments_lexer": "ipython3",
   "version": "3.6.1"
  }
 },
 "nbformat": 4,
 "nbformat_minor": 2
}
